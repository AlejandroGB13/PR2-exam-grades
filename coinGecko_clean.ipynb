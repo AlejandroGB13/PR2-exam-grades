{
 "cells": [
  {
   "cell_type": "markdown",
   "id": "24a450fd",
   "metadata": {},
   "source": [
    "# Práctica 2: Limpieza y validación de los datos"
   ]
  },
  {
   "cell_type": "markdown",
   "id": "69434171",
   "metadata": {},
   "source": [
    "Ferran Valverde Parera y Alejandro González Barberá (10 de enero 2023)."
   ]
  },
  {
   "cell_type": "markdown",
   "id": "ee744ea4",
   "metadata": {},
   "source": [
    "# 1. Descripción del dataset"
   ]
  },
  {
   "cell_type": "markdown",
   "id": "ff231381",
   "metadata": {},
   "source": [
    "No es una novedad el creciente interés por la compra-venta de monedas virtuales. Con el programa resultante y conocimientos de cómo fluctúa el mercado sería posible encontrar los momentos idóneos para realizar las transacciones y maximizar los beneficios.\n",
    "\n",
    "En este proyecto hemos trabajado sobre CoinGecko, una web de monitorización de criptomonedas a tiempo real. Nuestro objetivo es obtener los datos en una tabla con las variables que nos interesan para poder hacer análisis a posteriori, y con estos análisis poder extraer conclusiones a la hora de invertir.\n",
    "\n",
    "Nuestro dataset consiste en una lista de las 100 mejores criptomonedas ordenadas según su capitalización de mercado, junto a algunos de los datos que hemos considerado más relevantes para su análisis. En total contiene 100 observaciones con 6 variables, lo que da un volumen de 600 datos."
   ]
  },
  {
   "cell_type": "markdown",
   "id": "9f14391a",
   "metadata": {},
   "source": [
    "### Importar librerías"
   ]
  },
  {
   "cell_type": "code",
   "execution_count": 2,
   "id": "8e83ba74",
   "metadata": {},
   "outputs": [],
   "source": [
    "import pandas as pd"
   ]
  },
  {
   "cell_type": "markdown",
   "id": "c09a83d4",
   "metadata": {},
   "source": [
    "### Carga de datos"
   ]
  },
  {
   "cell_type": "code",
   "execution_count": 9,
   "id": "e2e7cd00",
   "metadata": {},
   "outputs": [
    {
     "name": "stdout",
     "output_type": "stream",
     "text": [
      "        Name                        Time            Price    Min_price_24h  \\\n",
      "0      1inch  2022-11-16 18:24:50.990833        $0.525937        $0.518301   \n",
      "1      1inch  2022-11-16 17:59:03.829788        $0.523920        $0.518301   \n",
      "2      1inch  2022-11-16 18:31:20.517608        $0.526769        $0.518301   \n",
      "3      1inch  2022-11-16 18:37:44.567425        $0.525956        $0.518301   \n",
      "4      1inch  2022-11-16 18:18:26.179425        $0.525451        $0.518301   \n",
      "..       ...                         ...              ...              ...   \n",
      "995  zilliqa  2022-11-16 17:52:39.254623  $0.021420534149  $0.021064324680   \n",
      "996  zilliqa  2022-11-16 17:46:12.812009  $0.021304624858  $0.021064324680   \n",
      "997  zilliqa  2022-11-16 17:37:53.932612  $0.021269308670  $0.021064324680   \n",
      "998  zilliqa  2022-11-16 18:31:20.517608  $0.021378996146  $0.021064324680   \n",
      "999  zilliqa  2022-11-16 18:37:44.567425  $0.021361116183  $0.021064324680   \n",
      "\n",
      "       Max_price_24h    Market_cap      Vol_24h  \n",
      "0          $0.544801  $327,257,574  $20,044,785  \n",
      "1          $0.544801  $326,317,040  $20,189,030  \n",
      "2          $0.544801  $327,257,574  $20,295,031  \n",
      "3          $0.544801  $327,484,368  $20,026,273  \n",
      "4          $0.544801  $326,460,280  $20,059,599  \n",
      "..               ...           ...          ...  \n",
      "995  $0.022342740752  $322,686,472  $29,319,080  \n",
      "996  $0.022342740752  $320,835,497  $29,319,127  \n",
      "997  $0.022342740752  $320,137,598  $29,429,849  \n",
      "998  $0.022342740752  $323,206,825  $29,118,231  \n",
      "999  $0.022342740752  $322,212,171  $29,037,641  \n",
      "\n",
      "[1000 rows x 7 columns]\n"
     ]
    }
   ],
   "source": [
    "df = pd.read_csv('./CoinGecko_reviewed.csv', sep=';')\n",
    "print(df)"
   ]
  },
  {
   "cell_type": "markdown",
   "id": "8f63d957",
   "metadata": {},
   "source": [
    "# 2. Limpieza de datos"
   ]
  },
  {
   "cell_type": "markdown",
   "id": "b554ba8a",
   "metadata": {},
   "source": [
    "El dataframe contiene 7000 registros y 7 variables. \n",
    "\n",
    "Contiene 100 tipos de monedas y sus estadísticas durante un intervalo de una hora.\n",
    "\n",
    "Las variables son: Name, Time, Price, Min_price_24h, Max_price_24h, Market_cap, Vol_24h."
   ]
  },
  {
   "cell_type": "markdown",
   "id": "2222b8a6",
   "metadata": {},
   "source": [
    "## 2.1. Selección de variables"
   ]
  },
  {
   "cell_type": "markdown",
   "id": "999ef671",
   "metadata": {},
   "source": [
    "De las anteriores variables, nos interesan:\n",
    "\n",
    "- \n",
    "- "
   ]
  },
  {
   "cell_type": "code",
   "execution_count": null,
   "id": "3e5c0973",
   "metadata": {},
   "outputs": [],
   "source": []
  },
  {
   "cell_type": "markdown",
   "id": "be2d7130",
   "metadata": {},
   "source": [
    "## 2.2. Clase de las variables"
   ]
  },
  {
   "cell_type": "code",
   "execution_count": 10,
   "id": "86df9857",
   "metadata": {},
   "outputs": [
    {
     "data": {
      "text/plain": [
       "Name             object\n",
       "Time             object\n",
       "Price            object\n",
       "Min_price_24h    object\n",
       "Max_price_24h    object\n",
       "Market_cap       object\n",
       "Vol_24h          object\n",
       "dtype: object"
      ]
     },
     "execution_count": 10,
     "metadata": {},
     "output_type": "execute_result"
    }
   ],
   "source": [
    "df.dtypes"
   ]
  },
  {
   "cell_type": "markdown",
   "id": "17737fa4",
   "metadata": {},
   "source": [
    "Después de guardar en csv, todas las variables son de tipo 'Object', es decir,\n",
    "\n",
    "Pero realmente las clases son las siguientes:\n"
   ]
  },
  {
   "cell_type": "markdown",
   "id": "e0c4592e",
   "metadata": {},
   "source": [
    "## 2.3. Análisi de los outliers"
   ]
  },
  {
   "cell_type": "code",
   "execution_count": null,
   "id": "b6efc628",
   "metadata": {},
   "outputs": [],
   "source": []
  },
  {
   "cell_type": "markdown",
   "id": "9153b7d1",
   "metadata": {},
   "source": [
    "# 3. Representación gráfica"
   ]
  },
  {
   "cell_type": "code",
   "execution_count": null,
   "id": "7a513bd4",
   "metadata": {},
   "outputs": [],
   "source": []
  },
  {
   "cell_type": "code",
   "execution_count": null,
   "id": "118a044b",
   "metadata": {},
   "outputs": [],
   "source": []
  },
  {
   "cell_type": "code",
   "execution_count": null,
   "id": "19a28009",
   "metadata": {},
   "outputs": [],
   "source": []
  }
 ],
 "metadata": {
  "kernelspec": {
   "display_name": "Python 3 (ipykernel)",
   "language": "python",
   "name": "python3"
  },
  "language_info": {
   "codemirror_mode": {
    "name": "ipython",
    "version": 3
   },
   "file_extension": ".py",
   "mimetype": "text/x-python",
   "name": "python",
   "nbconvert_exporter": "python",
   "pygments_lexer": "ipython3",
   "version": "3.7.11"
  }
 },
 "nbformat": 4,
 "nbformat_minor": 5
}
